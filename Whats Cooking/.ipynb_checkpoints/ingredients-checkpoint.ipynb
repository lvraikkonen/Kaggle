{
 "cells": [
  {
   "cell_type": "code",
   "execution_count": 1,
   "metadata": {
    "collapsed": true
   },
   "outputs": [],
   "source": [
    "import numpy as np\n",
    "import pandas as pd\n",
    "import nltk\n",
    "import re\n",
    "from nltk.stem import WordNetLemmatizer\n",
    "from sklearn.svm import LinearSVC\n",
    "from sklearn.metrics import classification_report\n",
    "import sklearn.metrics\n",
    "from sklearn.feature_extraction.text import TfidfVectorizer\n",
    "from sklearn import grid_search\n",
    "from sklearn.linear_model import LogisticRegression\n",
    "from sklearn.ensemble import RandomForestClassifier"
   ]
  },
  {
   "cell_type": "code",
   "execution_count": 2,
   "metadata": {
    "collapsed": false
   },
   "outputs": [
    {
     "name": "stdout",
     "output_type": "stream",
     "text": [
      "ingredients.ipynb  submission.csv     test.json          train.json\r\n"
     ]
    }
   ],
   "source": [
    "%ls"
   ]
  },
  {
   "cell_type": "code",
   "execution_count": 3,
   "metadata": {
    "collapsed": false
   },
   "outputs": [],
   "source": [
    "train_df = pd.read_json(\"train.json\")\n",
    "train_df.head()\n",
    "\n",
    "test_df = pd.read_json(\"test.json\")"
   ]
  },
  {
   "cell_type": "code",
   "execution_count": 4,
   "metadata": {
    "collapsed": false
   },
   "outputs": [
    {
     "data": {
      "text/plain": [
       "0    romaine lettuce, black olives, grape tomatoes,...\n",
       "1    plain flour, ground pepper, salt, tomatoes, gr...\n",
       "2    eggs, pepper, salt, mayonaise, cooking oil, gr...\n",
       "3                    water, vegetable oil, wheat, salt\n",
       "4    black pepper, shallots, cornflour, cayenne pep...\n",
       "Name: raw_text, dtype: object"
      ]
     },
     "execution_count": 4,
     "metadata": {},
     "output_type": "execute_result"
    }
   ],
   "source": [
    "train_df['raw_text'] = train_df.ingredients.apply(lambda x: \", \".join(x))\n",
    "train_df['raw_text'].head()"
   ]
  },
  {
   "cell_type": "code",
   "execution_count": 5,
   "metadata": {
    "collapsed": false
   },
   "outputs": [
    {
     "data": {
      "text/plain": [
       "0          greek\n",
       "1    southern_us\n",
       "2       filipino\n",
       "3         indian\n",
       "4         indian\n",
       "Name: cuisine, dtype: object"
      ]
     },
     "execution_count": 5,
     "metadata": {},
     "output_type": "execute_result"
    }
   ],
   "source": [
    "train_df.cuisine.head()"
   ]
  },
  {
   "cell_type": "code",
   "execution_count": 6,
   "metadata": {
    "collapsed": false
   },
   "outputs": [],
   "source": [
    "train_df['ingredients_clean_text'] = [', '.join(x).strip() for x in train_df['ingredients']]\n",
    "train_df['ingredients_string'] = [' '.join([WordNetLemmatizer().lemmatize(re.sub('[^A-Za-z]', ' ', line)) for line in lists]).strip() for lists in train_df['ingredients']]"
   ]
  },
  {
   "cell_type": "code",
   "execution_count": 7,
   "metadata": {
    "collapsed": false
   },
   "outputs": [
    {
     "data": {
      "text/plain": [
       "0    romaine lettuce black olives grape tomatoes ga...\n",
       "1    plain flour ground pepper salt tomato ground b...\n",
       "2    egg pepper salt mayonaise cooking oil green ch...\n",
       "3                       water vegetable oil wheat salt\n",
       "4    black pepper shallot cornflour cayenne pepper ...\n",
       "Name: ingredients_string, dtype: object"
      ]
     },
     "execution_count": 7,
     "metadata": {},
     "output_type": "execute_result"
    }
   ],
   "source": [
    "train_df['ingredients_string'].head()"
   ]
  },
  {
   "cell_type": "code",
   "execution_count": 8,
   "metadata": {
    "collapsed": false
   },
   "outputs": [
    {
     "data": {
      "text/plain": [
       "0    baking powder egg all purpose flour raisin mil...\n",
       "1    sugar egg yolks corn starch cream of tartar ba...\n",
       "2    sausage links fennel bulb frond olive oil cuba...\n",
       "3    meat cuts file powder smoked sausage okra shri...\n",
       "4    ground black pepper salt sausage casings leek ...\n",
       "Name: ingredients_string, dtype: object"
      ]
     },
     "execution_count": 8,
     "metadata": {},
     "output_type": "execute_result"
    }
   ],
   "source": [
    "test_df['ingredients_clean_text'] = [', '.join(x).strip() for x in test_df['ingredients']]\n",
    "test_df['ingredients_string'] = [' '.join([WordNetLemmatizer().lemmatize(re.sub('[^A-Za-z]', ' ', line)) for line in lists]).strip() for lists in test_df['ingredients']]\n",
    "test_df['ingredients_string'].head()"
   ]
  },
  {
   "cell_type": "code",
   "execution_count": null,
   "metadata": {
    "collapsed": true
   },
   "outputs": [],
   "source": []
  },
  {
   "cell_type": "code",
   "execution_count": 9,
   "metadata": {
    "collapsed": false
   },
   "outputs": [],
   "source": [
    "corpus_train = train_df['ingredients_string']\n",
    "vectorizer_train = TfidfVectorizer(stop_words='english')\n",
    "tfidf_train = vectorizer_train.fit_transform(corpus_train)"
   ]
  },
  {
   "cell_type": "code",
   "execution_count": 11,
   "metadata": {
    "collapsed": false
   },
   "outputs": [],
   "source": [
    "corpus_test = test_df['ingredients_string']\n",
    "vectorizer_test = TfidfVectorizer(stop_words='english')\n",
    "tfidf_test=vectorizer_train.transform(corpus_test)"
   ]
  },
  {
   "cell_type": "code",
   "execution_count": 12,
   "metadata": {
    "collapsed": true
   },
   "outputs": [],
   "source": [
    "predictors_train = tfidf_train\n",
    "targets_train = train_df['cuisine']\n",
    "\n",
    "predictors_test = tfidf_test"
   ]
  },
  {
   "cell_type": "code",
   "execution_count": 14,
   "metadata": {
    "collapsed": false
   },
   "outputs": [],
   "source": [
    "parameters = {'C':[1, 100]}\n",
    "clf = LinearSVC()\n",
    "#clf = LogisticRegression()\n",
    "#classifier = RandomForestClassifier(n_estimators=100)\n",
    "\n",
    "classifier = grid_search.GridSearchCV(clf, parameters)\n",
    "classifier = classifier.fit(predictors_train,targets_train)"
   ]
  },
  {
   "cell_type": "code",
   "execution_count": 16,
   "metadata": {
    "collapsed": false
   },
   "outputs": [
    {
     "data": {
      "text/plain": [
       "GridSearchCV(cv=None, error_score='raise',\n",
       "       estimator=LinearSVC(C=1.0, class_weight=None, dual=True, fit_intercept=True,\n",
       "     intercept_scaling=1, loss='squared_hinge', max_iter=1000,\n",
       "     multi_class='ovr', penalty='l2', random_state=None, tol=0.0001,\n",
       "     verbose=0),\n",
       "       fit_params={}, iid=True, loss_func=None, n_jobs=1,\n",
       "       param_grid={'C': [1, 100]}, pre_dispatch='2*n_jobs', refit=True,\n",
       "       score_func=None, scoring=None, verbose=0)"
      ]
     },
     "execution_count": 16,
     "metadata": {},
     "output_type": "execute_result"
    }
   ],
   "source": [
    "classifier"
   ]
  },
  {
   "cell_type": "code",
   "execution_count": 17,
   "metadata": {
    "collapsed": false
   },
   "outputs": [],
   "source": [
    "predictions = classifier.predict(predictors_test)\n",
    "test_df['cuisine'] = predictions\n",
    "test_df = test_df.sort('id', ascending=True)"
   ]
  },
  {
   "cell_type": "code",
   "execution_count": 18,
   "metadata": {
    "collapsed": false,
    "scrolled": true
   },
   "outputs": [
    {
     "data": {
      "text/html": [
       "<div>\n",
       "<table border=\"1\" class=\"dataframe\">\n",
       "  <thead>\n",
       "    <tr style=\"text-align: right;\">\n",
       "      <th></th>\n",
       "      <th>id</th>\n",
       "      <th>ingredients</th>\n",
       "      <th>ingredients_clean_text</th>\n",
       "      <th>ingredients_string</th>\n",
       "      <th>cuisine</th>\n",
       "    </tr>\n",
       "  </thead>\n",
       "  <tbody>\n",
       "    <tr>\n",
       "      <th>4987</th>\n",
       "      <td>5</td>\n",
       "      <td>[mushrooms, chopped onion, tomato sauce, chees...</td>\n",
       "      <td>mushrooms, chopped onion, tomato sauce, cheese...</td>\n",
       "      <td>mushroom chopped onion tomato sauce cheese dri...</td>\n",
       "      <td>mexican</td>\n",
       "    </tr>\n",
       "    <tr>\n",
       "      <th>9232</th>\n",
       "      <td>7</td>\n",
       "      <td>[minced garlic, brown rice, sour cream, chicke...</td>\n",
       "      <td>minced garlic, brown rice, sour cream, chicken...</td>\n",
       "      <td>minced garlic brown rice sour cream chicken re...</td>\n",
       "      <td>indian</td>\n",
       "    </tr>\n",
       "    <tr>\n",
       "      <th>9638</th>\n",
       "      <td>11</td>\n",
       "      <td>[lime juice, sesame oil, garlic cloves, fish s...</td>\n",
       "      <td>lime juice, sesame oil, garlic cloves, fish sa...</td>\n",
       "      <td>lime juice sesame oil garlic cloves fish sauce...</td>\n",
       "      <td>vietnamese</td>\n",
       "    </tr>\n",
       "    <tr>\n",
       "      <th>4927</th>\n",
       "      <td>12</td>\n",
       "      <td>[sugar, vanilla extract, corn starch, coffee g...</td>\n",
       "      <td>sugar, vanilla extract, corn starch, coffee gr...</td>\n",
       "      <td>sugar vanilla extract corn starch coffee granu...</td>\n",
       "      <td>italian</td>\n",
       "    </tr>\n",
       "    <tr>\n",
       "      <th>3280</th>\n",
       "      <td>13</td>\n",
       "      <td>[frozen pie crust, bourbon whiskey, powdered s...</td>\n",
       "      <td>frozen pie crust, bourbon whiskey, powdered su...</td>\n",
       "      <td>frozen pie crust bourbon whiskey powdered suga...</td>\n",
       "      <td>southern_us</td>\n",
       "    </tr>\n",
       "  </tbody>\n",
       "</table>\n",
       "</div>"
      ],
      "text/plain": [
       "      id                                        ingredients  \\\n",
       "4987   5  [mushrooms, chopped onion, tomato sauce, chees...   \n",
       "9232   7  [minced garlic, brown rice, sour cream, chicke...   \n",
       "9638  11  [lime juice, sesame oil, garlic cloves, fish s...   \n",
       "4927  12  [sugar, vanilla extract, corn starch, coffee g...   \n",
       "3280  13  [frozen pie crust, bourbon whiskey, powdered s...   \n",
       "\n",
       "                                 ingredients_clean_text  \\\n",
       "4987  mushrooms, chopped onion, tomato sauce, cheese...   \n",
       "9232  minced garlic, brown rice, sour cream, chicken...   \n",
       "9638  lime juice, sesame oil, garlic cloves, fish sa...   \n",
       "4927  sugar, vanilla extract, corn starch, coffee gr...   \n",
       "3280  frozen pie crust, bourbon whiskey, powdered su...   \n",
       "\n",
       "                                     ingredients_string      cuisine  \n",
       "4987  mushroom chopped onion tomato sauce cheese dri...      mexican  \n",
       "9232  minced garlic brown rice sour cream chicken re...       indian  \n",
       "9638  lime juice sesame oil garlic cloves fish sauce...   vietnamese  \n",
       "4927  sugar vanilla extract corn starch coffee granu...      italian  \n",
       "3280  frozen pie crust bourbon whiskey powdered suga...  southern_us  "
      ]
     },
     "execution_count": 18,
     "metadata": {},
     "output_type": "execute_result"
    }
   ],
   "source": [
    "test_df.head()"
   ]
  },
  {
   "cell_type": "code",
   "execution_count": 19,
   "metadata": {
    "collapsed": true
   },
   "outputs": [],
   "source": [
    "test_df[['id','cuisine']].to_csv('submission.csv', index=False)"
   ]
  },
  {
   "cell_type": "code",
   "execution_count": 20,
   "metadata": {
    "collapsed": false
   },
   "outputs": [
    {
     "name": "stdout",
     "output_type": "stream",
     "text": [
      "ingredients.ipynb  submission.csv     test.json          train.json\r\n"
     ]
    }
   ],
   "source": [
    "%ls"
   ]
  },
  {
   "cell_type": "code",
   "execution_count": null,
   "metadata": {
    "collapsed": true
   },
   "outputs": [],
   "source": []
  }
 ],
 "metadata": {
  "kernelspec": {
   "display_name": "Python 2",
   "language": "python",
   "name": "python2"
  },
  "language_info": {
   "codemirror_mode": {
    "name": "ipython",
    "version": 2
   },
   "file_extension": ".py",
   "mimetype": "text/x-python",
   "name": "python",
   "nbconvert_exporter": "python",
   "pygments_lexer": "ipython2",
   "version": "2.7.9"
  }
 },
 "nbformat": 4,
 "nbformat_minor": 0
}
