{
 "cells": [
  {
   "cell_type": "code",
   "execution_count": 1,
   "metadata": {
    "collapsed": true
   },
   "outputs": [],
   "source": [
    "import xgboost as xgb\n",
    "import numpy as np\n",
    "import pandas as pd\n",
    "\n",
    "from sklearn.cross_validation import KFold, train_test_split\n",
    "from sklearn.metrics import confusion_matrix, mean_squared_error\n",
    "from sklearn.grid_search import GridSearchCV"
   ]
  },
  {
   "cell_type": "code",
   "execution_count": 2,
   "metadata": {
    "collapsed": true
   },
   "outputs": [],
   "source": [
    "rng = np.random.RandomState(33)"
   ]
  },
  {
   "cell_type": "code",
   "execution_count": 3,
   "metadata": {
    "collapsed": false
   },
   "outputs": [],
   "source": [
    "train_df = pd.read_json(\"train.json\")\n",
    "train_df.head()\n",
    "\n",
    "test_df = pd.read_json(\"test.json\")"
   ]
  },
  {
   "cell_type": "code",
   "execution_count": 4,
   "metadata": {
    "collapsed": false
   },
   "outputs": [
    {
     "data": {
      "text/plain": [
       "0    romaine lettuce, black olives, grape tomatoes,...\n",
       "1    plain flour, ground pepper, salt, tomatoes, gr...\n",
       "2    eggs, pepper, salt, mayonaise, cooking oil, gr...\n",
       "3                    water, vegetable oil, wheat, salt\n",
       "4    black pepper, shallots, cornflour, cayenne pep...\n",
       "Name: raw_text, dtype: object"
      ]
     },
     "execution_count": 4,
     "metadata": {},
     "output_type": "execute_result"
    }
   ],
   "source": [
    "train_df['raw_text'] = train_df.ingredients.apply(lambda x: \", \".join(x))\n",
    "train_df['raw_text'].head()"
   ]
  },
  {
   "cell_type": "code",
   "execution_count": 5,
   "metadata": {
    "collapsed": true
   },
   "outputs": [],
   "source": [
    "import nltk\n",
    "import re\n",
    "from nltk.stem import WordNetLemmatizer"
   ]
  },
  {
   "cell_type": "code",
   "execution_count": 6,
   "metadata": {
    "collapsed": true
   },
   "outputs": [],
   "source": [
    "stemmer = WordNetLemmatizer()\n",
    "\n",
    "def stem_tokens(tokens, stemmer):\n",
    "    stemmed = []\n",
    "    for item in tokens:\n",
    "        stemmed.append(stemmer.lemmatize(item))\n",
    "    return stemmed\n",
    "\n",
    "def tokenize(text):\n",
    "    text = re.sub('[^A-Za-z]', ' ', text)\n",
    "    text = re.sub(\" +\", \" \", text)\n",
    "    tokens = nltk.word_tokenize(text)\n",
    "    stems = stem_tokens(tokens, stemmer)\n",
    "    return stems"
   ]
  },
  {
   "cell_type": "code",
   "execution_count": 7,
   "metadata": {
    "collapsed": true
   },
   "outputs": [],
   "source": [
    "train_df['ingredients_clean_text'] = [', '.join(x).strip() for x in train_df['ingredients']]\n",
    "train_df['ingredients_string'] = [' '.join([WordNetLemmatizer().lemmatize(re.sub('[^A-Za-z]', ' ', line)) for line in lists]).strip() for lists in train_df['ingredients']]"
   ]
  },
  {
   "cell_type": "code",
   "execution_count": 8,
   "metadata": {
    "collapsed": false
   },
   "outputs": [
    {
     "data": {
      "text/html": [
       "<div>\n",
       "<table border=\"1\" class=\"dataframe\">\n",
       "  <thead>\n",
       "    <tr style=\"text-align: right;\">\n",
       "      <th></th>\n",
       "      <th>cuisine</th>\n",
       "      <th>id</th>\n",
       "      <th>ingredients</th>\n",
       "      <th>raw_text</th>\n",
       "      <th>ingredients_clean_text</th>\n",
       "      <th>ingredients_string</th>\n",
       "    </tr>\n",
       "  </thead>\n",
       "  <tbody>\n",
       "    <tr>\n",
       "      <th>0</th>\n",
       "      <td>greek</td>\n",
       "      <td>10259</td>\n",
       "      <td>[romaine lettuce, black olives, grape tomatoes...</td>\n",
       "      <td>romaine lettuce, black olives, grape tomatoes,...</td>\n",
       "      <td>romaine lettuce, black olives, grape tomatoes,...</td>\n",
       "      <td>romaine lettuce black olives grape tomatoes ga...</td>\n",
       "    </tr>\n",
       "    <tr>\n",
       "      <th>1</th>\n",
       "      <td>southern_us</td>\n",
       "      <td>25693</td>\n",
       "      <td>[plain flour, ground pepper, salt, tomatoes, g...</td>\n",
       "      <td>plain flour, ground pepper, salt, tomatoes, gr...</td>\n",
       "      <td>plain flour, ground pepper, salt, tomatoes, gr...</td>\n",
       "      <td>plain flour ground pepper salt tomato ground b...</td>\n",
       "    </tr>\n",
       "    <tr>\n",
       "      <th>2</th>\n",
       "      <td>filipino</td>\n",
       "      <td>20130</td>\n",
       "      <td>[eggs, pepper, salt, mayonaise, cooking oil, g...</td>\n",
       "      <td>eggs, pepper, salt, mayonaise, cooking oil, gr...</td>\n",
       "      <td>eggs, pepper, salt, mayonaise, cooking oil, gr...</td>\n",
       "      <td>egg pepper salt mayonaise cooking oil green ch...</td>\n",
       "    </tr>\n",
       "    <tr>\n",
       "      <th>3</th>\n",
       "      <td>indian</td>\n",
       "      <td>22213</td>\n",
       "      <td>[water, vegetable oil, wheat, salt]</td>\n",
       "      <td>water, vegetable oil, wheat, salt</td>\n",
       "      <td>water, vegetable oil, wheat, salt</td>\n",
       "      <td>water vegetable oil wheat salt</td>\n",
       "    </tr>\n",
       "    <tr>\n",
       "      <th>4</th>\n",
       "      <td>indian</td>\n",
       "      <td>13162</td>\n",
       "      <td>[black pepper, shallots, cornflour, cayenne pe...</td>\n",
       "      <td>black pepper, shallots, cornflour, cayenne pep...</td>\n",
       "      <td>black pepper, shallots, cornflour, cayenne pep...</td>\n",
       "      <td>black pepper shallot cornflour cayenne pepper ...</td>\n",
       "    </tr>\n",
       "  </tbody>\n",
       "</table>\n",
       "</div>"
      ],
      "text/plain": [
       "       cuisine     id                                        ingredients  \\\n",
       "0        greek  10259  [romaine lettuce, black olives, grape tomatoes...   \n",
       "1  southern_us  25693  [plain flour, ground pepper, salt, tomatoes, g...   \n",
       "2     filipino  20130  [eggs, pepper, salt, mayonaise, cooking oil, g...   \n",
       "3       indian  22213                [water, vegetable oil, wheat, salt]   \n",
       "4       indian  13162  [black pepper, shallots, cornflour, cayenne pe...   \n",
       "\n",
       "                                            raw_text  \\\n",
       "0  romaine lettuce, black olives, grape tomatoes,...   \n",
       "1  plain flour, ground pepper, salt, tomatoes, gr...   \n",
       "2  eggs, pepper, salt, mayonaise, cooking oil, gr...   \n",
       "3                  water, vegetable oil, wheat, salt   \n",
       "4  black pepper, shallots, cornflour, cayenne pep...   \n",
       "\n",
       "                              ingredients_clean_text  \\\n",
       "0  romaine lettuce, black olives, grape tomatoes,...   \n",
       "1  plain flour, ground pepper, salt, tomatoes, gr...   \n",
       "2  eggs, pepper, salt, mayonaise, cooking oil, gr...   \n",
       "3                  water, vegetable oil, wheat, salt   \n",
       "4  black pepper, shallots, cornflour, cayenne pep...   \n",
       "\n",
       "                                  ingredients_string  \n",
       "0  romaine lettuce black olives grape tomatoes ga...  \n",
       "1  plain flour ground pepper salt tomato ground b...  \n",
       "2  egg pepper salt mayonaise cooking oil green ch...  \n",
       "3                     water vegetable oil wheat salt  \n",
       "4  black pepper shallot cornflour cayenne pepper ...  "
      ]
     },
     "execution_count": 8,
     "metadata": {},
     "output_type": "execute_result"
    }
   ],
   "source": [
    "train_df.head()"
   ]
  },
  {
   "cell_type": "code",
   "execution_count": 9,
   "metadata": {
    "collapsed": false
   },
   "outputs": [],
   "source": [
    "test_df['ingredients_clean_text'] = [', '.join(x).strip() for x in test_df['ingredients']]\n",
    "test_df['ingredients_string'] = [' '.join([WordNetLemmatizer().lemmatize(re.sub('[^A-Za-z]', ' ', line)) for line in lists]).strip() for lists in test_df['ingredients']]\n",
    "# test_df['ingredients_string'].head()"
   ]
  },
  {
   "cell_type": "code",
   "execution_count": 10,
   "metadata": {
    "collapsed": false
   },
   "outputs": [
    {
     "data": {
      "text/html": [
       "<div>\n",
       "<table border=\"1\" class=\"dataframe\">\n",
       "  <thead>\n",
       "    <tr style=\"text-align: right;\">\n",
       "      <th></th>\n",
       "      <th>id</th>\n",
       "      <th>ingredients</th>\n",
       "      <th>ingredients_clean_text</th>\n",
       "      <th>ingredients_string</th>\n",
       "    </tr>\n",
       "  </thead>\n",
       "  <tbody>\n",
       "    <tr>\n",
       "      <th>0</th>\n",
       "      <td>18009</td>\n",
       "      <td>[baking powder, eggs, all-purpose flour, raisi...</td>\n",
       "      <td>baking powder, eggs, all-purpose flour, raisin...</td>\n",
       "      <td>baking powder egg all purpose flour raisin mil...</td>\n",
       "    </tr>\n",
       "    <tr>\n",
       "      <th>1</th>\n",
       "      <td>28583</td>\n",
       "      <td>[sugar, egg yolks, corn starch, cream of tarta...</td>\n",
       "      <td>sugar, egg yolks, corn starch, cream of tartar...</td>\n",
       "      <td>sugar egg yolks corn starch cream of tartar ba...</td>\n",
       "    </tr>\n",
       "    <tr>\n",
       "      <th>2</th>\n",
       "      <td>41580</td>\n",
       "      <td>[sausage links, fennel bulb, fronds, olive oil...</td>\n",
       "      <td>sausage links, fennel bulb, fronds, olive oil,...</td>\n",
       "      <td>sausage links fennel bulb frond olive oil cuba...</td>\n",
       "    </tr>\n",
       "    <tr>\n",
       "      <th>3</th>\n",
       "      <td>29752</td>\n",
       "      <td>[meat cuts, file powder, smoked sausage, okra,...</td>\n",
       "      <td>meat cuts, file powder, smoked sausage, okra, ...</td>\n",
       "      <td>meat cuts file powder smoked sausage okra shri...</td>\n",
       "    </tr>\n",
       "    <tr>\n",
       "      <th>4</th>\n",
       "      <td>35687</td>\n",
       "      <td>[ground black pepper, salt, sausage casings, l...</td>\n",
       "      <td>ground black pepper, salt, sausage casings, le...</td>\n",
       "      <td>ground black pepper salt sausage casings leek ...</td>\n",
       "    </tr>\n",
       "  </tbody>\n",
       "</table>\n",
       "</div>"
      ],
      "text/plain": [
       "      id                                        ingredients  \\\n",
       "0  18009  [baking powder, eggs, all-purpose flour, raisi...   \n",
       "1  28583  [sugar, egg yolks, corn starch, cream of tarta...   \n",
       "2  41580  [sausage links, fennel bulb, fronds, olive oil...   \n",
       "3  29752  [meat cuts, file powder, smoked sausage, okra,...   \n",
       "4  35687  [ground black pepper, salt, sausage casings, l...   \n",
       "\n",
       "                              ingredients_clean_text  \\\n",
       "0  baking powder, eggs, all-purpose flour, raisin...   \n",
       "1  sugar, egg yolks, corn starch, cream of tartar...   \n",
       "2  sausage links, fennel bulb, fronds, olive oil,...   \n",
       "3  meat cuts, file powder, smoked sausage, okra, ...   \n",
       "4  ground black pepper, salt, sausage casings, le...   \n",
       "\n",
       "                                  ingredients_string  \n",
       "0  baking powder egg all purpose flour raisin mil...  \n",
       "1  sugar egg yolks corn starch cream of tartar ba...  \n",
       "2  sausage links fennel bulb frond olive oil cuba...  \n",
       "3  meat cuts file powder smoked sausage okra shri...  \n",
       "4  ground black pepper salt sausage casings leek ...  "
      ]
     },
     "execution_count": 10,
     "metadata": {},
     "output_type": "execute_result"
    }
   ],
   "source": [
    "test_df.head()"
   ]
  },
  {
   "cell_type": "code",
   "execution_count": 11,
   "metadata": {
    "collapsed": true
   },
   "outputs": [],
   "source": [
    "from sklearn.feature_extraction.text import TfidfVectorizer"
   ]
  },
  {
   "cell_type": "code",
   "execution_count": 12,
   "metadata": {
    "collapsed": true
   },
   "outputs": [],
   "source": [
    "vectorizer = TfidfVectorizer(analyzer='word', tokenizer=tokenize, lowercase=True, stop_words='english', ngram_range=(1,2))"
   ]
  },
  {
   "cell_type": "code",
   "execution_count": 13,
   "metadata": {
    "collapsed": false
   },
   "outputs": [],
   "source": [
    "corpus = train_df['ingredients_string'].tolist() + test_df['ingredients_string'].tolist()\n",
    "corpus_features = vectorizer.fit_transform(corpus)\n",
    "\n",
    "train_features = vectorizer.transform(train_df['ingredients_string'])\n",
    "test_features  = vectorizer.transform(test_df['ingredients_string'])"
   ]
  },
  {
   "cell_type": "code",
   "execution_count": 14,
   "metadata": {
    "collapsed": true
   },
   "outputs": [],
   "source": [
    "from sklearn import preprocessing\n",
    "\n",
    "one_hot_encoder = preprocessing.LabelEncoder()\n",
    "one_hot_encoder.fit(train_df['cuisine'])\n",
    "train_df['cuisine_encode'] = one_hot_encoder.transform(train_df['cuisine'])"
   ]
  },
  {
   "cell_type": "code",
   "execution_count": 15,
   "metadata": {
    "collapsed": false
   },
   "outputs": [
    {
     "data": {
      "text/html": [
       "<div>\n",
       "<table border=\"1\" class=\"dataframe\">\n",
       "  <thead>\n",
       "    <tr style=\"text-align: right;\">\n",
       "      <th></th>\n",
       "      <th>cuisine</th>\n",
       "      <th>id</th>\n",
       "      <th>ingredients</th>\n",
       "      <th>raw_text</th>\n",
       "      <th>ingredients_clean_text</th>\n",
       "      <th>ingredients_string</th>\n",
       "      <th>cuisine_encode</th>\n",
       "    </tr>\n",
       "  </thead>\n",
       "  <tbody>\n",
       "    <tr>\n",
       "      <th>0</th>\n",
       "      <td>greek</td>\n",
       "      <td>10259</td>\n",
       "      <td>[romaine lettuce, black olives, grape tomatoes...</td>\n",
       "      <td>romaine lettuce, black olives, grape tomatoes,...</td>\n",
       "      <td>romaine lettuce, black olives, grape tomatoes,...</td>\n",
       "      <td>romaine lettuce black olives grape tomatoes ga...</td>\n",
       "      <td>6</td>\n",
       "    </tr>\n",
       "    <tr>\n",
       "      <th>1</th>\n",
       "      <td>southern_us</td>\n",
       "      <td>25693</td>\n",
       "      <td>[plain flour, ground pepper, salt, tomatoes, g...</td>\n",
       "      <td>plain flour, ground pepper, salt, tomatoes, gr...</td>\n",
       "      <td>plain flour, ground pepper, salt, tomatoes, gr...</td>\n",
       "      <td>plain flour ground pepper salt tomato ground b...</td>\n",
       "      <td>16</td>\n",
       "    </tr>\n",
       "    <tr>\n",
       "      <th>2</th>\n",
       "      <td>filipino</td>\n",
       "      <td>20130</td>\n",
       "      <td>[eggs, pepper, salt, mayonaise, cooking oil, g...</td>\n",
       "      <td>eggs, pepper, salt, mayonaise, cooking oil, gr...</td>\n",
       "      <td>eggs, pepper, salt, mayonaise, cooking oil, gr...</td>\n",
       "      <td>egg pepper salt mayonaise cooking oil green ch...</td>\n",
       "      <td>4</td>\n",
       "    </tr>\n",
       "    <tr>\n",
       "      <th>3</th>\n",
       "      <td>indian</td>\n",
       "      <td>22213</td>\n",
       "      <td>[water, vegetable oil, wheat, salt]</td>\n",
       "      <td>water, vegetable oil, wheat, salt</td>\n",
       "      <td>water, vegetable oil, wheat, salt</td>\n",
       "      <td>water vegetable oil wheat salt</td>\n",
       "      <td>7</td>\n",
       "    </tr>\n",
       "    <tr>\n",
       "      <th>4</th>\n",
       "      <td>indian</td>\n",
       "      <td>13162</td>\n",
       "      <td>[black pepper, shallots, cornflour, cayenne pe...</td>\n",
       "      <td>black pepper, shallots, cornflour, cayenne pep...</td>\n",
       "      <td>black pepper, shallots, cornflour, cayenne pep...</td>\n",
       "      <td>black pepper shallot cornflour cayenne pepper ...</td>\n",
       "      <td>7</td>\n",
       "    </tr>\n",
       "  </tbody>\n",
       "</table>\n",
       "</div>"
      ],
      "text/plain": [
       "       cuisine     id                                        ingredients  \\\n",
       "0        greek  10259  [romaine lettuce, black olives, grape tomatoes...   \n",
       "1  southern_us  25693  [plain flour, ground pepper, salt, tomatoes, g...   \n",
       "2     filipino  20130  [eggs, pepper, salt, mayonaise, cooking oil, g...   \n",
       "3       indian  22213                [water, vegetable oil, wheat, salt]   \n",
       "4       indian  13162  [black pepper, shallots, cornflour, cayenne pe...   \n",
       "\n",
       "                                            raw_text  \\\n",
       "0  romaine lettuce, black olives, grape tomatoes,...   \n",
       "1  plain flour, ground pepper, salt, tomatoes, gr...   \n",
       "2  eggs, pepper, salt, mayonaise, cooking oil, gr...   \n",
       "3                  water, vegetable oil, wheat, salt   \n",
       "4  black pepper, shallots, cornflour, cayenne pep...   \n",
       "\n",
       "                              ingredients_clean_text  \\\n",
       "0  romaine lettuce, black olives, grape tomatoes,...   \n",
       "1  plain flour, ground pepper, salt, tomatoes, gr...   \n",
       "2  eggs, pepper, salt, mayonaise, cooking oil, gr...   \n",
       "3                  water, vegetable oil, wheat, salt   \n",
       "4  black pepper, shallots, cornflour, cayenne pep...   \n",
       "\n",
       "                                  ingredients_string  cuisine_encode  \n",
       "0  romaine lettuce black olives grape tomatoes ga...               6  \n",
       "1  plain flour ground pepper salt tomato ground b...              16  \n",
       "2  egg pepper salt mayonaise cooking oil green ch...               4  \n",
       "3                     water vegetable oil wheat salt               7  \n",
       "4  black pepper shallot cornflour cayenne pepper ...               7  "
      ]
     },
     "execution_count": 15,
     "metadata": {},
     "output_type": "execute_result"
    }
   ],
   "source": [
    "train_df.head()"
   ]
  },
  {
   "cell_type": "code",
   "execution_count": 16,
   "metadata": {
    "collapsed": false
   },
   "outputs": [],
   "source": [
    "train_xgb, test_xgb, train_target_xgb, test_target_xgb = train_test_split(corpus_features[:len(train_df)], train_df['cuisine_encode'], test_size=0.2, random_state=rng)"
   ]
  },
  {
   "cell_type": "code",
   "execution_count": 17,
   "metadata": {
    "collapsed": false
   },
   "outputs": [],
   "source": [
    "dtrain = xgb.DMatrix(train_xgb, label=train_target_xgb)\n",
    "dtest  = xgb.DMatrix(test_xgb, label=test_target_xgb)"
   ]
  },
  {
   "cell_type": "markdown",
   "metadata": {},
   "source": [
    "# Train data using xgboost NEW"
   ]
  },
  {
   "cell_type": "code",
   "execution_count": 18,
   "metadata": {
    "collapsed": true
   },
   "outputs": [],
   "source": [
    "# params\n",
    "param = {'max_depth':10, 'eta':0.1, 'silent':1, 'objective':'multi:softmax', 'num_class': 20 , 'eval_metric': 'merror'}"
   ]
  },
  {
   "cell_type": "code",
   "execution_count": 19,
   "metadata": {
    "collapsed": false
   },
   "outputs": [
    {
     "name": "stderr",
     "output_type": "stream",
     "text": [
      "[0]\ttrain-merror:0.290110\tevals-merror:0.341546\n",
      "[1]\ttrain-merror:0.250731\tevals-merror:0.311754\n",
      "[2]\ttrain-merror:0.231057\tevals-merror:0.296417\n",
      "[3]\ttrain-merror:0.220591\tevals-merror:0.291389\n",
      "[4]\ttrain-merror:0.210629\tevals-merror:0.285607\n",
      "[5]\ttrain-merror:0.202552\tevals-merror:0.280075\n",
      "[6]\ttrain-merror:0.197241\tevals-merror:0.279573\n",
      "[7]\ttrain-merror:0.192244\tevals-merror:0.276053\n",
      "[8]\ttrain-merror:0.188221\tevals-merror:0.274419\n",
      "[9]\ttrain-merror:0.183098\tevals-merror:0.270145\n",
      "[10]\ttrain-merror:0.178855\tevals-merror:0.265493\n",
      "[11]\ttrain-merror:0.175084\tevals-merror:0.264991\n",
      "[12]\ttrain-merror:0.172193\tevals-merror:0.264613\n",
      "[13]\ttrain-merror:0.169396\tevals-merror:0.263859\n",
      "[14]\ttrain-merror:0.166316\tevals-merror:0.262225\n",
      "[15]\ttrain-merror:0.162576\tevals-merror:0.261722\n",
      "[16]\ttrain-merror:0.160030\tevals-merror:0.259962\n",
      "[17]\ttrain-merror:0.156416\tevals-merror:0.258454\n",
      "[18]\ttrain-merror:0.153870\tevals-merror:0.258454\n",
      "[19]\ttrain-merror:0.151042\tevals-merror:0.257825\n",
      "[20]\ttrain-merror:0.148213\tevals-merror:0.256317\n",
      "[21]\ttrain-merror:0.145165\tevals-merror:0.255814\n",
      "[22]\ttrain-merror:0.142368\tevals-merror:0.255060\n",
      "[23]\ttrain-merror:0.140231\tevals-merror:0.253928\n",
      "[24]\ttrain-merror:0.137402\tevals-merror:0.253677\n",
      "[25]\ttrain-merror:0.134951\tevals-merror:0.253048\n",
      "[26]\ttrain-merror:0.132531\tevals-merror:0.253300\n",
      "[27]\ttrain-merror:0.130897\tevals-merror:0.252797\n",
      "[28]\ttrain-merror:0.128540\tevals-merror:0.252168\n",
      "[29]\ttrain-merror:0.126497\tevals-merror:0.250911\n",
      "[30]\ttrain-merror:0.123825\tevals-merror:0.250157\n",
      "[31]\ttrain-merror:0.121374\tevals-merror:0.250534\n",
      "[32]\ttrain-merror:0.119614\tevals-merror:0.250031\n",
      "[33]\ttrain-merror:0.117068\tevals-merror:0.248649\n",
      "[34]\ttrain-merror:0.114994\tevals-merror:0.247643\n",
      "[35]\ttrain-merror:0.112606\tevals-merror:0.247894\n",
      "[36]\ttrain-merror:0.110909\tevals-merror:0.246512\n",
      "[37]\ttrain-merror:0.108677\tevals-merror:0.245380\n",
      "[38]\ttrain-merror:0.106383\tevals-merror:0.244375\n",
      "[39]\ttrain-merror:0.104843\tevals-merror:0.244500\n",
      "[40]\ttrain-merror:0.102832\tevals-merror:0.243118\n",
      "[41]\ttrain-merror:0.101292\tevals-merror:0.242740\n",
      "[42]\ttrain-merror:0.099280\tevals-merror:0.241106\n",
      "[43]\ttrain-merror:0.097143\tevals-merror:0.240352\n",
      "[44]\ttrain-merror:0.095100\tevals-merror:0.240981\n",
      "[45]\ttrain-merror:0.093340\tevals-merror:0.239723\n",
      "[46]\ttrain-merror:0.091769\tevals-merror:0.238718\n",
      "[47]\ttrain-merror:0.090481\tevals-merror:0.238089\n",
      "[48]\ttrain-merror:0.089632\tevals-merror:0.237586\n",
      "[49]\ttrain-merror:0.088689\tevals-merror:0.236832\n",
      "[50]\ttrain-merror:0.087306\tevals-merror:0.236706\n",
      "[51]\ttrain-merror:0.086238\tevals-merror:0.236329\n",
      "[52]\ttrain-merror:0.083881\tevals-merror:0.236455\n",
      "[53]\ttrain-merror:0.082466\tevals-merror:0.236204\n",
      "[54]\ttrain-merror:0.081272\tevals-merror:0.235575\n",
      "[55]\ttrain-merror:0.080141\tevals-merror:0.234947\n",
      "[56]\ttrain-merror:0.079387\tevals-merror:0.233564\n",
      "[57]\ttrain-merror:0.078224\tevals-merror:0.233061\n",
      "[58]\ttrain-merror:0.077532\tevals-merror:0.232558\n",
      "[59]\ttrain-merror:0.076212\tevals-merror:0.231427\n",
      "[60]\ttrain-merror:0.075301\tevals-merror:0.231050\n",
      "[61]\ttrain-merror:0.073918\tevals-merror:0.230421\n",
      "[62]\ttrain-merror:0.072881\tevals-merror:0.229918\n",
      "[63]\ttrain-merror:0.071718\tevals-merror:0.229290\n",
      "[64]\ttrain-merror:0.071121\tevals-merror:0.228410\n",
      "[65]\ttrain-merror:0.070084\tevals-merror:0.228410\n",
      "[66]\ttrain-merror:0.068984\tevals-merror:0.227907\n",
      "[67]\ttrain-merror:0.068355\tevals-merror:0.228033\n",
      "[68]\ttrain-merror:0.067570\tevals-merror:0.228158\n",
      "[69]\ttrain-merror:0.066815\tevals-merror:0.227027\n",
      "[70]\ttrain-merror:0.065935\tevals-merror:0.226524\n",
      "[71]\ttrain-merror:0.065150\tevals-merror:0.226776\n",
      "[72]\ttrain-merror:0.064490\tevals-merror:0.226147\n",
      "[73]\ttrain-merror:0.064175\tevals-merror:0.226021\n",
      "[74]\ttrain-merror:0.063673\tevals-merror:0.225644\n",
      "[75]\ttrain-merror:0.063138\tevals-merror:0.225519\n",
      "[76]\ttrain-merror:0.062478\tevals-merror:0.225267\n",
      "[77]\ttrain-merror:0.061881\tevals-merror:0.225141\n",
      "[78]\ttrain-merror:0.061064\tevals-merror:0.224513\n",
      "[79]\ttrain-merror:0.060624\tevals-merror:0.224639\n",
      "[80]\ttrain-merror:0.060090\tevals-merror:0.223884\n",
      "[81]\ttrain-merror:0.059744\tevals-merror:0.224136\n",
      "[82]\ttrain-merror:0.059116\tevals-merror:0.224261\n",
      "[83]\ttrain-merror:0.058361\tevals-merror:0.224261\n",
      "[84]\ttrain-merror:0.057796\tevals-merror:0.224513\n",
      "[85]\ttrain-merror:0.057324\tevals-merror:0.224387\n",
      "[86]\ttrain-merror:0.056727\tevals-merror:0.223256\n",
      "[87]\ttrain-merror:0.056193\tevals-merror:0.223130\n",
      "[88]\ttrain-merror:0.055627\tevals-merror:0.222627\n",
      "[89]\ttrain-merror:0.055156\tevals-merror:0.222502\n",
      "[90]\ttrain-merror:0.054339\tevals-merror:0.222502\n",
      "[91]\ttrain-merror:0.053930\tevals-merror:0.222376\n",
      "[92]\ttrain-merror:0.053270\tevals-merror:0.221622\n",
      "[93]\ttrain-merror:0.052610\tevals-merror:0.221999\n",
      "[94]\ttrain-merror:0.052076\tevals-merror:0.221119\n",
      "[95]\ttrain-merror:0.051604\tevals-merror:0.220867\n",
      "[96]\ttrain-merror:0.051133\tevals-merror:0.220742\n",
      "[97]\ttrain-merror:0.050662\tevals-merror:0.220365\n",
      "[98]\ttrain-merror:0.050190\tevals-merror:0.219987\n",
      "[99]\ttrain-merror:0.049939\tevals-merror:0.219736\n",
      "[100]\ttrain-merror:0.049530\tevals-merror:0.219736\n",
      "[101]\ttrain-merror:0.048744\tevals-merror:0.219610\n",
      "[102]\ttrain-merror:0.048242\tevals-merror:0.219233\n",
      "[103]\ttrain-merror:0.047676\tevals-merror:0.219107\n",
      "[104]\ttrain-merror:0.047393\tevals-merror:0.219359\n",
      "[105]\ttrain-merror:0.046890\tevals-merror:0.219233\n",
      "[106]\ttrain-merror:0.046545\tevals-merror:0.219107\n",
      "[107]\ttrain-merror:0.045979\tevals-merror:0.219107\n",
      "[108]\ttrain-merror:0.045445\tevals-merror:0.218479\n",
      "[109]\ttrain-merror:0.044910\tevals-merror:0.218353\n",
      "[110]\ttrain-merror:0.044345\tevals-merror:0.218856\n",
      "[111]\ttrain-merror:0.043936\tevals-merror:0.218479\n",
      "[112]\ttrain-merror:0.043276\tevals-merror:0.218982\n",
      "[113]\ttrain-merror:0.042742\tevals-merror:0.218479\n",
      "[114]\ttrain-merror:0.042365\tevals-merror:0.218479\n",
      "[115]\ttrain-merror:0.042050\tevals-merror:0.218479\n",
      "[116]\ttrain-merror:0.041642\tevals-merror:0.217976\n",
      "[117]\ttrain-merror:0.041233\tevals-merror:0.218353\n",
      "[118]\ttrain-merror:0.040919\tevals-merror:0.218353\n",
      "[119]\ttrain-merror:0.040636\tevals-merror:0.217348\n",
      "[120]\ttrain-merror:0.040353\tevals-merror:0.216970\n",
      "[121]\ttrain-merror:0.040102\tevals-merror:0.216593\n",
      "[122]\ttrain-merror:0.039536\tevals-merror:0.216342\n",
      "[123]\ttrain-merror:0.039096\tevals-merror:0.216342\n",
      "[124]\ttrain-merror:0.038656\tevals-merror:0.216342\n",
      "[125]\ttrain-merror:0.038248\tevals-merror:0.216091\n",
      "[126]\ttrain-merror:0.038059\tevals-merror:0.215839\n",
      "[127]\ttrain-merror:0.037808\tevals-merror:0.215713\n",
      "[128]\ttrain-merror:0.037368\tevals-merror:0.215965\n",
      "[129]\ttrain-merror:0.036928\tevals-merror:0.215839\n",
      "[130]\ttrain-merror:0.036802\tevals-merror:0.215336\n",
      "[131]\ttrain-merror:0.036456\tevals-merror:0.215211\n",
      "[132]\ttrain-merror:0.036111\tevals-merror:0.215462\n",
      "[133]\ttrain-merror:0.035953\tevals-merror:0.215588\n",
      "[134]\ttrain-merror:0.035545\tevals-merror:0.215462\n",
      "[135]\ttrain-merror:0.035325\tevals-merror:0.215211\n",
      "[136]\ttrain-merror:0.034853\tevals-merror:0.215336\n",
      "[137]\ttrain-merror:0.034476\tevals-merror:0.215588\n",
      "[138]\ttrain-merror:0.034225\tevals-merror:0.214959\n",
      "[139]\ttrain-merror:0.034099\tevals-merror:0.214708\n",
      "[140]\ttrain-merror:0.033596\tevals-merror:0.214833\n",
      "[141]\ttrain-merror:0.033219\tevals-merror:0.214582\n",
      "[142]\ttrain-merror:0.032716\tevals-merror:0.214582\n",
      "[143]\ttrain-merror:0.032465\tevals-merror:0.214959\n",
      "[144]\ttrain-merror:0.032213\tevals-merror:0.214456\n",
      "[145]\ttrain-merror:0.031742\tevals-merror:0.214205\n",
      "[146]\ttrain-merror:0.031365\tevals-merror:0.214205\n",
      "[147]\ttrain-merror:0.031082\tevals-merror:0.214079\n",
      "[148]\ttrain-merror:0.030705\tevals-merror:0.214708\n",
      "[149]\ttrain-merror:0.030579\tevals-merror:0.214331\n",
      "[150]\ttrain-merror:0.030139\tevals-merror:0.214582\n",
      "[151]\ttrain-merror:0.030045\tevals-merror:0.214833\n",
      "[152]\ttrain-merror:0.029856\tevals-merror:0.214456\n",
      "[153]\ttrain-merror:0.029668\tevals-merror:0.214331\n",
      "[154]\ttrain-merror:0.029259\tevals-merror:0.214456\n",
      "[155]\ttrain-merror:0.028914\tevals-merror:0.214833\n",
      "[156]\ttrain-merror:0.028631\tevals-merror:0.214456\n",
      "[157]\ttrain-merror:0.028599\tevals-merror:0.214456\n",
      "[158]\ttrain-merror:0.028536\tevals-merror:0.214582\n",
      "[159]\ttrain-merror:0.028191\tevals-merror:0.214708\n",
      "[160]\ttrain-merror:0.027814\tevals-merror:0.214456\n",
      "[161]\ttrain-merror:0.027562\tevals-merror:0.213953\n",
      "[162]\ttrain-merror:0.027405\tevals-merror:0.213702\n",
      "[163]\ttrain-merror:0.026996\tevals-merror:0.213199\n",
      "[164]\ttrain-merror:0.026651\tevals-merror:0.213451\n",
      "[165]\ttrain-merror:0.026336\tevals-merror:0.213451\n",
      "[166]\ttrain-merror:0.025991\tevals-merror:0.213074\n",
      "[167]\ttrain-merror:0.025771\tevals-merror:0.213199\n",
      "[168]\ttrain-merror:0.025488\tevals-merror:0.213074\n",
      "[169]\ttrain-merror:0.025331\tevals-merror:0.213074\n",
      "[170]\ttrain-merror:0.024859\tevals-merror:0.212948\n",
      "[171]\ttrain-merror:0.024702\tevals-merror:0.212948\n",
      "[172]\ttrain-merror:0.024545\tevals-merror:0.213074\n",
      "[173]\ttrain-merror:0.024231\tevals-merror:0.212948\n",
      "[174]\ttrain-merror:0.023917\tevals-merror:0.213074\n",
      "[175]\ttrain-merror:0.023791\tevals-merror:0.213451\n",
      "[176]\ttrain-merror:0.023665\tevals-merror:0.212571\n",
      "[177]\ttrain-merror:0.023382\tevals-merror:0.212571\n",
      "[178]\ttrain-merror:0.023162\tevals-merror:0.212948\n",
      "[179]\ttrain-merror:0.022911\tevals-merror:0.212445\n",
      "[180]\ttrain-merror:0.022659\tevals-merror:0.212319\n",
      "[181]\ttrain-merror:0.022377\tevals-merror:0.212445\n",
      "[182]\ttrain-merror:0.022062\tevals-merror:0.212822\n",
      "[183]\ttrain-merror:0.021842\tevals-merror:0.212696\n",
      "[184]\ttrain-merror:0.021717\tevals-merror:0.212948\n",
      "[185]\ttrain-merror:0.021402\tevals-merror:0.212445\n",
      "[186]\ttrain-merror:0.021245\tevals-merror:0.212445\n",
      "[187]\ttrain-merror:0.021088\tevals-merror:0.212194\n",
      "[188]\ttrain-merror:0.020679\tevals-merror:0.212445\n",
      "[189]\ttrain-merror:0.020459\tevals-merror:0.211565\n",
      "[190]\ttrain-merror:0.020271\tevals-merror:0.212068\n",
      "[191]\ttrain-merror:0.020239\tevals-merror:0.212068\n",
      "[192]\ttrain-merror:0.020177\tevals-merror:0.211439\n",
      "[193]\ttrain-merror:0.020019\tevals-merror:0.211439\n",
      "[194]\ttrain-merror:0.019831\tevals-merror:0.211565\n",
      "[195]\ttrain-merror:0.019611\tevals-merror:0.211439\n",
      "[196]\ttrain-merror:0.019548\tevals-merror:0.211062\n",
      "[197]\ttrain-merror:0.019422\tevals-merror:0.211314\n",
      "[198]\ttrain-merror:0.019202\tevals-merror:0.210937\n",
      "[199]\ttrain-merror:0.018920\tevals-merror:0.211314\n",
      "[200]\ttrain-merror:0.018731\tevals-merror:0.211188\n",
      "[201]\ttrain-merror:0.018637\tevals-merror:0.211439\n",
      "[202]\ttrain-merror:0.018511\tevals-merror:0.211188\n",
      "[203]\ttrain-merror:0.018354\tevals-merror:0.211314\n",
      "[204]\ttrain-merror:0.018102\tevals-merror:0.211062\n",
      "[205]\ttrain-merror:0.017820\tevals-merror:0.211062\n",
      "[206]\ttrain-merror:0.017694\tevals-merror:0.211188\n",
      "[207]\ttrain-merror:0.017537\tevals-merror:0.210811\n",
      "[208]\ttrain-merror:0.017380\tevals-merror:0.210811\n",
      "[209]\ttrain-merror:0.017254\tevals-merror:0.210685\n",
      "[210]\ttrain-merror:0.016940\tevals-merror:0.210811\n",
      "[211]\ttrain-merror:0.016782\tevals-merror:0.210811\n",
      "[212]\ttrain-merror:0.016688\tevals-merror:0.211314\n",
      "[213]\ttrain-merror:0.016468\tevals-merror:0.211188\n",
      "[214]\ttrain-merror:0.016437\tevals-merror:0.211314\n",
      "[215]\ttrain-merror:0.016280\tevals-merror:0.211314\n",
      "[216]\ttrain-merror:0.015997\tevals-merror:0.210811\n",
      "[217]\ttrain-merror:0.015777\tevals-merror:0.210811\n",
      "[218]\ttrain-merror:0.015651\tevals-merror:0.210685\n",
      "[219]\ttrain-merror:0.015431\tevals-merror:0.210182\n",
      "[220]\ttrain-merror:0.015337\tevals-merror:0.209931\n",
      "[221]\ttrain-merror:0.015085\tevals-merror:0.210559\n",
      "[222]\ttrain-merror:0.015054\tevals-merror:0.210685\n",
      "[223]\ttrain-merror:0.014991\tevals-merror:0.210559\n",
      "[224]\ttrain-merror:0.014928\tevals-merror:0.210685\n",
      "[225]\ttrain-merror:0.014865\tevals-merror:0.210434\n",
      "[226]\ttrain-merror:0.014708\tevals-merror:0.210559\n",
      "[227]\ttrain-merror:0.014614\tevals-merror:0.210434\n",
      "[228]\ttrain-merror:0.014488\tevals-merror:0.210559\n",
      "[229]\ttrain-merror:0.014362\tevals-merror:0.210434\n",
      "[230]\ttrain-merror:0.014268\tevals-merror:0.210182\n",
      "[231]\ttrain-merror:0.014080\tevals-merror:0.210434\n",
      "[232]\ttrain-merror:0.013954\tevals-merror:0.210434\n",
      "[233]\ttrain-merror:0.013891\tevals-merror:0.209805\n",
      "[234]\ttrain-merror:0.013703\tevals-merror:0.210182\n",
      "[235]\ttrain-merror:0.013640\tevals-merror:0.210057\n",
      "[236]\ttrain-merror:0.013545\tevals-merror:0.210057\n",
      "[237]\ttrain-merror:0.013451\tevals-merror:0.209931\n",
      "[238]\ttrain-merror:0.013325\tevals-merror:0.209931\n",
      "[239]\ttrain-merror:0.013168\tevals-merror:0.209679\n",
      "[240]\ttrain-merror:0.013137\tevals-merror:0.209805\n",
      "[241]\ttrain-merror:0.012980\tevals-merror:0.209805\n",
      "[242]\ttrain-merror:0.012917\tevals-merror:0.209805\n",
      "[243]\ttrain-merror:0.012791\tevals-merror:0.209554\n",
      "[244]\ttrain-merror:0.012665\tevals-merror:0.209679\n",
      "[245]\ttrain-merror:0.012634\tevals-merror:0.209931\n",
      "[246]\ttrain-merror:0.012540\tevals-merror:0.209805\n",
      "[247]\ttrain-merror:0.012383\tevals-merror:0.209554\n",
      "[248]\ttrain-merror:0.012257\tevals-merror:0.209554\n",
      "[249]\ttrain-merror:0.011974\tevals-merror:0.209302\n",
      "[250]\ttrain-merror:0.011754\tevals-merror:0.209051\n",
      "[251]\ttrain-merror:0.011691\tevals-merror:0.208674\n",
      "[252]\ttrain-merror:0.011691\tevals-merror:0.208799\n",
      "[253]\ttrain-merror:0.011628\tevals-merror:0.208548\n",
      "[254]\ttrain-merror:0.011471\tevals-merror:0.208548\n",
      "[255]\ttrain-merror:0.011314\tevals-merror:0.208925\n",
      "[256]\ttrain-merror:0.011220\tevals-merror:0.208674\n",
      "[257]\ttrain-merror:0.011157\tevals-merror:0.209177\n",
      "[258]\ttrain-merror:0.010811\tevals-merror:0.208674\n",
      "[259]\ttrain-merror:0.010748\tevals-merror:0.208548\n",
      "[260]\ttrain-merror:0.010654\tevals-merror:0.208674\n",
      "[261]\ttrain-merror:0.010591\tevals-merror:0.208548\n",
      "[262]\ttrain-merror:0.010528\tevals-merror:0.209051\n",
      "[263]\ttrain-merror:0.010340\tevals-merror:0.208925\n",
      "[264]\ttrain-merror:0.010183\tevals-merror:0.208925\n",
      "[265]\ttrain-merror:0.010151\tevals-merror:0.208925\n",
      "[266]\ttrain-merror:0.009931\tevals-merror:0.208548\n",
      "[267]\ttrain-merror:0.009900\tevals-merror:0.208548\n",
      "[268]\ttrain-merror:0.009805\tevals-merror:0.208297\n",
      "[269]\ttrain-merror:0.009805\tevals-merror:0.207920\n",
      "[270]\ttrain-merror:0.009711\tevals-merror:0.207794\n",
      "[271]\ttrain-merror:0.009585\tevals-merror:0.207920\n",
      "[272]\ttrain-merror:0.009585\tevals-merror:0.207794\n",
      "[273]\ttrain-merror:0.009365\tevals-merror:0.207542\n",
      "[274]\ttrain-merror:0.009397\tevals-merror:0.207542\n",
      "[275]\ttrain-merror:0.009208\tevals-merror:0.207417\n",
      "[276]\ttrain-merror:0.009020\tevals-merror:0.207291\n",
      "[277]\ttrain-merror:0.009051\tevals-merror:0.207542\n",
      "[278]\ttrain-merror:0.008988\tevals-merror:0.207165\n",
      "[279]\ttrain-merror:0.008831\tevals-merror:0.207417\n",
      "[280]\ttrain-merror:0.008768\tevals-merror:0.207794\n",
      "[281]\ttrain-merror:0.008643\tevals-merror:0.207668\n",
      "[282]\ttrain-merror:0.008674\tevals-merror:0.207542\n",
      "[283]\ttrain-merror:0.008580\tevals-merror:0.207668\n",
      "[284]\ttrain-merror:0.008454\tevals-merror:0.208171\n",
      "[285]\ttrain-merror:0.008360\tevals-merror:0.207794\n",
      "[286]\ttrain-merror:0.008266\tevals-merror:0.207668\n",
      "[287]\ttrain-merror:0.008203\tevals-merror:0.207668\n",
      "[288]\ttrain-merror:0.008108\tevals-merror:0.207542\n",
      "[289]\ttrain-merror:0.008014\tevals-merror:0.207542\n",
      "[290]\ttrain-merror:0.007920\tevals-merror:0.207920\n",
      "[291]\ttrain-merror:0.007888\tevals-merror:0.207794\n",
      "[292]\ttrain-merror:0.007794\tevals-merror:0.207920\n",
      "[293]\ttrain-merror:0.007763\tevals-merror:0.208045\n",
      "[294]\ttrain-merror:0.007700\tevals-merror:0.208045\n",
      "[295]\ttrain-merror:0.007480\tevals-merror:0.207794\n",
      "[296]\ttrain-merror:0.007386\tevals-merror:0.207668\n",
      "[297]\ttrain-merror:0.007354\tevals-merror:0.207794\n",
      "[298]\ttrain-merror:0.007354\tevals-merror:0.207794\n",
      "[299]\ttrain-merror:0.007323\tevals-merror:0.207794\n"
     ]
    }
   ],
   "source": [
    "watchlist = [(dtrain, 'train'), (dtest, 'evals')]\n",
    "num_round = 300\n",
    "gbm = xgb.train(param, dtrain, num_round, watchlist)"
   ]
  },
  {
   "cell_type": "code",
   "execution_count": null,
   "metadata": {
    "collapsed": true
   },
   "outputs": [],
   "source": []
  },
  {
   "cell_type": "markdown",
   "metadata": {},
   "source": [
    "# Predict using gbm model"
   ]
  },
  {
   "cell_type": "code",
   "execution_count": 20,
   "metadata": {
    "collapsed": false
   },
   "outputs": [],
   "source": [
    "test_matrix = xgb.DMatrix(test_features)\n",
    "test_predicted = gbm.predict(test_matrix)"
   ]
  },
  {
   "cell_type": "code",
   "execution_count": 21,
   "metadata": {
    "collapsed": true
   },
   "outputs": [],
   "source": [
    "test_predicted = np.array(test_predicted, dtype='int32')\n",
    "predicted_labels = one_hot_encoder.inverse_transform(test_predicted)"
   ]
  },
  {
   "cell_type": "markdown",
   "metadata": {},
   "source": [
    "# Submit result"
   ]
  },
  {
   "cell_type": "code",
   "execution_count": 22,
   "metadata": {
    "collapsed": true
   },
   "outputs": [],
   "source": [
    "submit_df = pd.DataFrame({'id': test_df['id'], 'cuisine': predicted_labels})\n",
    "submit_df.to_csv('result_xgboost_new.csv', index=False)"
   ]
  },
  {
   "cell_type": "markdown",
   "metadata": {},
   "source": [
    "# train using xgboost"
   ]
  },
  {
   "cell_type": "code",
   "execution_count": null,
   "metadata": {
    "collapsed": true
   },
   "outputs": [],
   "source": [
    "import scipy"
   ]
  },
  {
   "cell_type": "code",
   "execution_count": null,
   "metadata": {
    "collapsed": true
   },
   "outputs": [],
   "source": [
    "scr = scipy.sparse.csr_matrix(train_xgb)"
   ]
  },
  {
   "cell_type": "code",
   "execution_count": null,
   "metadata": {
    "collapsed": false
   },
   "outputs": [],
   "source": [
    "dtrain = xgb.DMatrix(train_xgb, label=train_target_xgb)\n",
    "dtest  = xgb.DMatrix(test_xgb, label=test_target_xgb)"
   ]
  },
  {
   "cell_type": "code",
   "execution_count": null,
   "metadata": {
    "collapsed": false
   },
   "outputs": [],
   "source": [
    "dtrain"
   ]
  },
  {
   "cell_type": "code",
   "execution_count": null,
   "metadata": {
    "collapsed": false
   },
   "outputs": [],
   "source": [
    "# params\n",
    "param = {'max_depth':6, 'eta':0.1, 'silent':1, 'objective':'multi:softmax', 'num_class': 20 , 'eval_metric': 'merror'}\n",
    "\n",
    "watchlist = [(dtrain, 'train'), (dtest, 'test')]\n",
    "num_round = 200\n",
    "bst = xgb.train(param, dtrain, num_round, watchlist)"
   ]
  },
  {
   "cell_type": "markdown",
   "metadata": {},
   "source": [
    "# predict using bst model"
   ]
  },
  {
   "cell_type": "code",
   "execution_count": null,
   "metadata": {
    "collapsed": true
   },
   "outputs": [],
   "source": [
    "test_matrix = xgb.DMatrix(tfidf_test)\n",
    "\n",
    "test_predicted = bst.predict(test_matrix)"
   ]
  },
  {
   "cell_type": "code",
   "execution_count": null,
   "metadata": {
    "collapsed": true
   },
   "outputs": [],
   "source": [
    "test_predicted = np.array(test_predicted, dtype='int32')\n",
    "predicted_labels = one_hot_encoder.inverse_transform(test_predicted)"
   ]
  },
  {
   "cell_type": "code",
   "execution_count": null,
   "metadata": {
    "collapsed": false
   },
   "outputs": [],
   "source": [
    "%ls"
   ]
  },
  {
   "cell_type": "code",
   "execution_count": null,
   "metadata": {
    "collapsed": true
   },
   "outputs": [],
   "source": []
  }
 ],
 "metadata": {
  "kernelspec": {
   "display_name": "Python 2",
   "language": "python",
   "name": "python2"
  },
  "language_info": {
   "codemirror_mode": {
    "name": "ipython",
    "version": 2
   },
   "file_extension": ".py",
   "mimetype": "text/x-python",
   "name": "python",
   "nbconvert_exporter": "python",
   "pygments_lexer": "ipython2",
   "version": "2.7.9"
  }
 },
 "nbformat": 4,
 "nbformat_minor": 0
}
