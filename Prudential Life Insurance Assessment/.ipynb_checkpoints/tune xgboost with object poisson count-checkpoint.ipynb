{
 "cells": [
  {
   "cell_type": "code",
   "execution_count": null,
   "metadata": {
    "collapsed": true
   },
   "outputs": [],
   "source": [
    "import numpy as np\n",
    "import pandas as pd\n",
    "\n",
    "from sklearn import cross_validation\n",
    "from sklearn import preprocessing\n",
    "import xgboost as xgb"
   ]
  },
  {
   "cell_type": "code",
   "execution_count": null,
   "metadata": {
    "collapsed": false
   },
   "outputs": [],
   "source": [
    "train_df = pd.read_csv('./data/train.csv')\n",
    "test_df = pd.read_csv('./data/test.csv')"
   ]
  },
  {
   "cell_type": "code",
   "execution_count": null,
   "metadata": {
    "collapsed": false
   },
   "outputs": [],
   "source": [
    "train_df.describe()"
   ]
  },
  {
   "cell_type": "code",
   "execution_count": null,
   "metadata": {
    "collapsed": true
   },
   "outputs": [],
   "source": [
    "%matplotlib inline"
   ]
  },
  {
   "cell_type": "code",
   "execution_count": null,
   "metadata": {
    "collapsed": true
   },
   "outputs": [],
   "source": [
    "import matplotlib.pyplot as plt\n",
    "import seaborn as sns"
   ]
  },
  {
   "cell_type": "code",
   "execution_count": null,
   "metadata": {
    "collapsed": false
   },
   "outputs": [],
   "source": [
    "fig, (axis1) = plt.subplots(1,1,figsize=(15,5))\n",
    "\n",
    "sns.countplot(x=train_df[\"Response\"], order=[1,2,3,4,5,6,7,8], ax=axis1)"
   ]
  },
  {
   "cell_type": "code",
   "execution_count": null,
   "metadata": {
    "collapsed": false
   },
   "outputs": [],
   "source": []
  },
  {
   "cell_type": "markdown",
   "metadata": {},
   "source": [
    "# Encode NonNumeric columns"
   ]
  },
  {
   "cell_type": "code",
   "execution_count": null,
   "metadata": {
    "collapsed": true
   },
   "outputs": [],
   "source": [
    "for col in train_df.columns:\n",
    "    if train_df[col].dtype == 'object':\n",
    "        encoder = preprocessing.LabelEncoder()\n",
    "        encoder.fit(list(train_df[col].values) + list(test_df[col].values))\n",
    "        train_df[col] = encoder.transform(list(train_df[col].values))\n",
    "        test_df[col] = encoder.transform(list(test_df[col].values))"
   ]
  },
  {
   "cell_type": "code",
   "execution_count": null,
   "metadata": {
    "collapsed": false
   },
   "outputs": [],
   "source": [
    "train_df.head()"
   ]
  },
  {
   "cell_type": "markdown",
   "metadata": {},
   "source": [
    "# Fill NA"
   ]
  },
  {
   "cell_type": "code",
   "execution_count": null,
   "metadata": {
    "collapsed": true
   },
   "outputs": [],
   "source": [
    "for col in train_df.columns:\n",
    "    if col == 'Response':\n",
    "        continue\n",
    "    if train_df[col].dtype == 'float64':\n",
    "        train_df[col].fillna(train_df[col].mean(), inplace=True)\n",
    "        test_df[col].fillna(test_df[col].mean(), inplace=True)\n",
    "    else:\n",
    "        train_df[col].fillna(train_df[col].median(), inplace=True)\n",
    "        test_df[col].fillna(test_df[col].median(), inplace=True)"
   ]
  },
  {
   "cell_type": "code",
   "execution_count": null,
   "metadata": {
    "collapsed": false
   },
   "outputs": [],
   "source": [
    "test_df.head()"
   ]
  },
  {
   "cell_type": "code",
   "execution_count": null,
   "metadata": {
    "collapsed": false
   },
   "outputs": [],
   "source": [
    "train_features = train_df.drop(['Id', 'Response'], axis=1)\n",
    "train_target = train_df['Response']\n",
    "test_index = test_df['Id']\n",
    "test_features = test_df.drop('Id', axis=1)"
   ]
  },
  {
   "cell_type": "markdown",
   "metadata": {},
   "source": [
    "# Get Validation Dataset"
   ]
  },
  {
   "cell_type": "code",
   "execution_count": null,
   "metadata": {
    "collapsed": false
   },
   "outputs": [],
   "source": [
    "val_index = np.random.randint(0, train_df.shape[0], 2000)\n",
    "val_data = train_df.ix[val_index]\n",
    "val_data.shape"
   ]
  },
  {
   "cell_type": "code",
   "execution_count": null,
   "metadata": {
    "collapsed": true
   },
   "outputs": [],
   "source": [
    "val_target = val_data['Response'].values\n",
    "val_features = val_data.drop(['Id', 'Response'], axis=1)"
   ]
  },
  {
   "cell_type": "markdown",
   "metadata": {},
   "source": [
    "# Xgboost Params"
   ]
  },
  {
   "cell_type": "code",
   "execution_count": null,
   "metadata": {
    "collapsed": true
   },
   "outputs": [],
   "source": [
    "dtrain = xgb.DMatrix(train_features, label=train_target)\n",
    "dval  = xgb.DMatrix(val_features, label=val_target)"
   ]
  },
  {
   "cell_type": "code",
   "execution_count": null,
   "metadata": {
    "collapsed": false,
    "scrolled": false
   },
   "outputs": [],
   "source": [
    "params = {\n",
    "    'eta': 0.025,\n",
    "    'objective':'count:poisson',\n",
    "    'depth': 20,\n",
    "    'eval_metric': 'rmse',\n",
    "    'nthread':2,\n",
    "    'subsample': 0.7,\n",
    "    'colsample_bytree': 0.65,\n",
    "    'min_child_weight': 3,\n",
    "    'early_stopping_rounds': 10\n",
    "}\n",
    "\n",
    "num_round = 20000\n",
    "watchlist = [(dtrain, 'train'), (dval, 'validation')]\n",
    "\n",
    "gbm = xgb.train(params, dtrain, num_round, watchlist)"
   ]
  },
  {
   "cell_type": "markdown",
   "metadata": {},
   "source": [
    "# Predict"
   ]
  },
  {
   "cell_type": "code",
   "execution_count": null,
   "metadata": {
    "collapsed": true
   },
   "outputs": [],
   "source": [
    "dtest  = xgb.DMatrix(test_features)\n",
    "preds = gbm.predict(dtest)\n",
    "\n",
    "def output(x):\n",
    "    if x < 1:\n",
    "        return 1\n",
    "    elif x > 8:\n",
    "        return 8\n",
    "    elif x == 3:# trick\n",
    "        return 2\n",
    "    else:\n",
    "        return int(round(x))\n",
    "\n",
    "result = [output(x) for x in preds]"
   ]
  },
  {
   "cell_type": "code",
   "execution_count": null,
   "metadata": {
    "collapsed": false
   },
   "outputs": [],
   "source": [
    "submit_df = pd.DataFrame({'Id': test_index, 'Response': result})\n",
    "submit_df.to_csv('prudential_xgboost_poissoncount.csv', index=False)"
   ]
  },
  {
   "cell_type": "code",
   "execution_count": null,
   "metadata": {
    "collapsed": true
   },
   "outputs": [],
   "source": []
  }
 ],
 "metadata": {
  "kernelspec": {
   "display_name": "Python 2",
   "language": "python",
   "name": "python2"
  },
  "language_info": {
   "codemirror_mode": {
    "name": "ipython",
    "version": 2
   },
   "file_extension": ".py",
   "mimetype": "text/x-python",
   "name": "python",
   "nbconvert_exporter": "python",
   "pygments_lexer": "ipython2",
   "version": "2.7.9"
  }
 },
 "nbformat": 4,
 "nbformat_minor": 0
}
