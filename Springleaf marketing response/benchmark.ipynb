{
 "cells": [
  {
   "cell_type": "code",
   "execution_count": null,
   "metadata": {
    "collapsed": true
   },
   "outputs": [],
   "source": [
    "# coding: utf-8\n",
    "\"\"\"\n",
    "Beating the benchmark @ Kaggle Springleaf\n",
    "@author: Abhishek Thakur\n",
    "\"\"\"\n",
    "\n",
    "\n",
    "import pandas as pd\n",
    "import numpy as np\n",
    "import xgboost as xgb\n",
    "from sklearn import preprocessing, linear_model\n",
    "\n",
    "\n",
    "train = pd.read_csv('train.csv')\n",
    "test = pd.read_csv('test.csv')\n",
    "\n",
    "y = train.target.values\n",
    "train = train.drop(['ID', 'target'], axis=1)\n",
    "test = test.drop('ID', axis=1)\n",
    "\n",
    "train = train.dropna(axis=1, thresh=2000)\n",
    "test = test.dropna(axis=1, thresh=2000)\n",
    "\n",
    "train = train.fillna(-1)\n",
    "test = test.fillna(-1)\n",
    "\n",
    "for f in train.columns:\n",
    "    if train[f].dtype=='object': \n",
    "        print f\n",
    "        lbl = preprocessing.LabelEncoder()\n",
    "        lbl.fit(list(train[f].values) + list(test[f].values))\n",
    "        train[f] = lbl.transform(list(train[f].values))\n",
    "        test[f] = lbl.transform(list(test[f].values))                    \n",
    "\n",
    "\n",
    "X = np.array(train)\n",
    "X_test = np.array(test)\n",
    "clf = xgb.XGBClassifier(n_estimators=5000, nthread=-1, max_depth=17,\n",
    "                        learning_rate=0.01, silent=False, subsample=0.8, colsample_bytree=0.7)\n",
    "\n",
    "\n",
    "clf.fit(X, y)\n",
    "\n",
    "preds = clf.predict_proba(X_test)[:,1]\n",
    "sample = pd.read_csv('sample_submission.csv')\n",
    "sample.target = preds\n",
    "sample.to_csv('benchmark.csv', index=False)\n",
    "\n"
   ]
  },
  {
   "cell_type": "code",
   "execution_count": null,
   "metadata": {
    "collapsed": true
   },
   "outputs": [],
   "source": []
  }
 ],
 "metadata": {
  "kernelspec": {
   "display_name": "Python 2",
   "language": "python",
   "name": "python2"
  },
  "language_info": {
   "codemirror_mode": {
    "name": "ipython",
    "version": 2
   },
   "file_extension": ".py",
   "mimetype": "text/x-python",
   "name": "python",
   "nbconvert_exporter": "python",
   "pygments_lexer": "ipython2",
   "version": "2.7.9"
  }
 },
 "nbformat": 4,
 "nbformat_minor": 0
}
