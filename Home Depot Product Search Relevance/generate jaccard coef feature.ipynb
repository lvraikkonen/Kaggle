{
 "cells": [
  {
   "cell_type": "code",
   "execution_count": 1,
   "metadata": {
    "collapsed": true
   },
   "outputs": [],
   "source": [
    "import numpy as np\n",
    "import pandas as pd\n",
    "import ngram\n",
    "from nlp_utils import stopwords, english_stemmer, stem_tokens, getTFV\n",
    "import cPickle\n",
    "\n",
    "import re\n",
    "from sklearn.ensemble import RandomForestRegressor, GradientBoostingRegressor\n",
    "from sklearn import decomposition, pipeline, metrics, grid_search\n",
    "from sklearn.feature_extraction.text import TfidfVectorizer\n",
    "from sklearn.decomposition import TruncatedSVD\n",
    "from sklearn.preprocessing import StandardScaler\n",
    "import xgboost as xgb\n",
    "from nltk.stem.porter import *\n",
    "from nltk.metrics import edit_distance\n",
    "\n",
    "from utility import correct_string"
   ]
  },
  {
   "cell_type": "code",
   "execution_count": 2,
   "metadata": {
    "collapsed": true
   },
   "outputs": [],
   "source": [
    "df_train = pd.read_csv('input/train.csv', encoding='ISO-8859-1')\n",
    "df_test = pd.read_csv('input/test.csv', encoding='ISO-8859-1')\n",
    "df_pro_desc = pd.read_csv('input/product_descriptions.csv')\n",
    "df_attr = pd.read_csv('input/attributes.csv')\n",
    "df_brand = df_attr[df_attr.name == \"MFG Brand Name\"][[\"product_uid\", \"value\"]].rename(columns={\"value\": \"brand\"})\n",
    "\n",
    "num_train = df_train.shape[0]"
   ]
  },
  {
   "cell_type": "code",
   "execution_count": 3,
   "metadata": {
    "collapsed": true
   },
   "outputs": [],
   "source": [
    "df_all = pd.concat((df_train, df_test), axis=0, ignore_index=True)\n",
    "df_all = pd.merge(df_all, df_pro_desc, how='left', on='product_uid')\n",
    "df_all = pd.merge(df_all, df_brand, how='left', on=\"product_uid\")"
   ]
  },
  {
   "cell_type": "code",
   "execution_count": 4,
   "metadata": {
    "collapsed": true
   },
   "outputs": [],
   "source": [
    "stemmer = PorterStemmer()\n",
    "\n",
    "def str_stem(s):\n",
    "    if isinstance(s, str):\n",
    "        s = correct_string(s)\n",
    "        s = \" \".join([stemmer.stem(re.sub('[^A-Za-z0-9-./]', ' ', word))\n",
    "                      for word in s.split(\" \")])\n",
    "        s = s.lower()\n",
    "        return s\n",
    "    else:\n",
    "        return \"null\"\n",
    "\n",
    "def try_divided(x, y, val=0.0):\n",
    "    if y != 0.0:\n",
    "        val = float(x) / y\n",
    "    return val\n",
    "\n",
    "# Jaccard coefficient between search_term and title & search_term and description\n",
    "def jaccardCoef(A, B):\n",
    "    A, B = set(A), set(B)\n",
    "    intersect = len(A.intersection(B))\n",
    "    union = len(A.union(B))\n",
    "    coef = try_divided(intersect, union)\n",
    "    return coef\n",
    "\n",
    "def diceDist(A, B):\n",
    "    A, B = set(A), set(B)\n",
    "    intersect = len(A.intersection(B))\n",
    "    union  = len(A) + len(B)\n",
    "    d = try_divided(2*intersect, union)\n",
    "    return d\n",
    "\n",
    "def compute_dist(A, B, dist=\"jaccard_coef\"):\n",
    "    if dist == \"jaccard_coef\":\n",
    "        d = jaccardCoef(A, B)\n",
    "    elif dist == \"dice_dist\":\n",
    "        d = diceDist(A, B)\n",
    "    return d\n",
    "\n",
    "def pairwise_jaccard_coef(A, B):\n",
    "    coef = np.zeros((A.shape[0], B.shape[0]), dtype=float)\n",
    "    for i in range(A.shape[0]):\n",
    "        for j in range(B.shape[0]):\n",
    "            coef[i,j] = jaccardCoef(A[i], B[j])\n",
    "    return coef\n",
    "\n",
    "def pairwise_jaccard_coef(A, B):\n",
    "    d = np.zeros((A.shape[0], B.shape[0]), dtype=float)\n",
    "    for i in range(A.shape[0]):\n",
    "        for j in range(B.shape[0]):\n",
    "            d[i,j] = diceDist(A[i], B[j])\n",
    "    return d\n",
    "\n",
    "token_pattern = r\"(?u)\\b\\w\\w+\\b\"\n",
    "def preprocess_data(line, token_pattern=token_pattern,encode_digit=False):\n",
    "    token_pattern = re.compile(token_pattern, flags=re.UNICODE | re.LOCALE)\n",
    "    # tokenize\n",
    "    tokens = [x.lower() for x in token_pattern.findall(line)]\n",
    "    # stem\n",
    "    tokens_stemmed = stem_tokens(tokens, english_stemmer)\n",
    "    \n",
    "    return tokens_stemmed\n",
    "\n",
    "def extract_basic_distance_feat(df):\n",
    "    ## unigram\n",
    "    print \"generate unigram\"\n",
    "    df[\"term_unigram\"] = list(df.apply(lambda x: preprocess_data(x[\"search_term\"]), axis=1))\n",
    "    df[\"title_unigram\"] = list(df.apply(lambda x: preprocess_data(x[\"product_title\"]), axis=1))\n",
    "    df[\"description_unigram\"] = list(df.apply(lambda x: preprocess_data(x[\"product_description\"]), axis=1))\n",
    "    ## bigram\n",
    "    print \"generate bigram\"\n",
    "    join_str = \"_\"\n",
    "    df[\"term_bigram\"] = list(df.apply(lambda x: ngram.getBigram(x[\"term_unigram\"], join_str), axis=1))\n",
    "    df[\"title_bigram\"] = list(df.apply(lambda x: ngram.getBigram(x[\"title_unigram\"], join_str), axis=1))\n",
    "    df[\"description_bigram\"] = list(df.apply(lambda x: ngram.getBigram(x[\"description_unigram\"], join_str), axis=1))\n",
    "    ## trigram\n",
    "    print \"generate trigram\"\n",
    "    join_str = \"_\"\n",
    "    df[\"term_trigram\"] = list(df.apply(lambda x: ngram.getTrigram(x[\"term_unigram\"], join_str), axis=1))\n",
    "    df[\"title_trigram\"] = list(df.apply(lambda x: ngram.getTrigram(x[\"title_unigram\"], join_str), axis=1))\n",
    "    df[\"description_trigram\"] = list(df.apply(lambda x: ngram.getTrigram(x[\"description_unigram\"], join_str), axis=1))\n",
    " \n",
    "    ## jaccard coef/dice dist of n-gram\n",
    "    print \"generate jaccard coef and dice dist for n-gram\"\n",
    "    dists = [\"jaccard_coef\", \"dice_dist\"]\n",
    "    grams = [\"unigram\", \"bigram\", \"trigram\"]\n",
    "    feat_names = [\"term\", \"title\", \"description\"]\n",
    "    for dist in dists:\n",
    "        for gram in grams:\n",
    "            for i in range(len(feat_names)-1):\n",
    "                for j in range(i+1,len(feat_names)):\n",
    "                    target_name = feat_names[i]\n",
    "                    obs_name = feat_names[j]\n",
    "                    df[\"%s_of_%s_between_%s_%s\"%(dist,gram,target_name,obs_name)] = \\\n",
    "                            list(df.apply(lambda x: compute_dist(x[target_name+\"_\"+gram], x[obs_name+\"_\"+gram], dist), axis=1))"
   ]
  },
  {
   "cell_type": "code",
   "execution_count": 5,
   "metadata": {
    "collapsed": false
   },
   "outputs": [
    {
     "name": "stdout",
     "output_type": "stream",
     "text": [
      "Generate distince features...\n",
      "generate unigram\n",
      "generate bigram\n",
      "generate trigram\n",
      "generate jaccard coef and dice dist for n-gram\n",
      "Calculating jaccard coef cost--- 1380.70316696 seconds ---\n"
     ]
    }
   ],
   "source": [
    "import time\n",
    "print \"Generate distince features...\"\n",
    "\n",
    "start_time = time.time()\n",
    "extract_basic_distance_feat(df_all)\n",
    "\n",
    "print(\"Calculating jaccard coef cost--- %s seconds ---\" % (time.time() - start_time))"
   ]
  },
  {
   "cell_type": "code",
   "execution_count": 6,
   "metadata": {
    "collapsed": false
   },
   "outputs": [
    {
     "data": {
      "text/plain": [
       "Index([                                               u'id',\n",
       "                                           u'product_title',\n",
       "                                             u'product_uid',\n",
       "                                               u'relevance',\n",
       "                                             u'search_term',\n",
       "                                     u'product_description',\n",
       "                                                   u'brand',\n",
       "                                            u'term_unigram',\n",
       "                                           u'title_unigram',\n",
       "                                     u'description_unigram',\n",
       "                                             u'term_bigram',\n",
       "                                            u'title_bigram',\n",
       "                                      u'description_bigram',\n",
       "                                            u'term_trigram',\n",
       "                                           u'title_trigram',\n",
       "                                     u'description_trigram',\n",
       "              u'jaccard_coef_of_unigram_between_term_title',\n",
       "        u'jaccard_coef_of_unigram_between_term_description',\n",
       "       u'jaccard_coef_of_unigram_between_title_description',\n",
       "               u'jaccard_coef_of_bigram_between_term_title',\n",
       "         u'jaccard_coef_of_bigram_between_term_description',\n",
       "        u'jaccard_coef_of_bigram_between_title_description',\n",
       "              u'jaccard_coef_of_trigram_between_term_title',\n",
       "        u'jaccard_coef_of_trigram_between_term_description',\n",
       "       u'jaccard_coef_of_trigram_between_title_description',\n",
       "                 u'dice_dist_of_unigram_between_term_title',\n",
       "           u'dice_dist_of_unigram_between_term_description',\n",
       "          u'dice_dist_of_unigram_between_title_description',\n",
       "                  u'dice_dist_of_bigram_between_term_title',\n",
       "            u'dice_dist_of_bigram_between_term_description',\n",
       "           u'dice_dist_of_bigram_between_title_description',\n",
       "                 u'dice_dist_of_trigram_between_term_title',\n",
       "           u'dice_dist_of_trigram_between_term_description',\n",
       "          u'dice_dist_of_trigram_between_title_description'],\n",
       "      dtype='object')"
      ]
     },
     "execution_count": 6,
     "metadata": {},
     "output_type": "execute_result"
    }
   ],
   "source": [
    "df_all.columns"
   ]
  },
  {
   "cell_type": "code",
   "execution_count": 7,
   "metadata": {
    "collapsed": true
   },
   "outputs": [],
   "source": [
    "# dump result file\n",
    "df_all = df_all.drop(['search_term','relevance','product_title','product_uid','product_description','brand','term_unigram','title_unigram','description_unigram','term_bigram','title_bigram','description_bigram','term_trigram','title_trigram','description_trigram'],axis=1)"
   ]
  },
  {
   "cell_type": "code",
   "execution_count": 8,
   "metadata": {
    "collapsed": false
   },
   "outputs": [
    {
     "data": {
      "text/plain": [
       "Index([                                               u'id',\n",
       "              u'jaccard_coef_of_unigram_between_term_title',\n",
       "        u'jaccard_coef_of_unigram_between_term_description',\n",
       "       u'jaccard_coef_of_unigram_between_title_description',\n",
       "               u'jaccard_coef_of_bigram_between_term_title',\n",
       "         u'jaccard_coef_of_bigram_between_term_description',\n",
       "        u'jaccard_coef_of_bigram_between_title_description',\n",
       "              u'jaccard_coef_of_trigram_between_term_title',\n",
       "        u'jaccard_coef_of_trigram_between_term_description',\n",
       "       u'jaccard_coef_of_trigram_between_title_description',\n",
       "                 u'dice_dist_of_unigram_between_term_title',\n",
       "           u'dice_dist_of_unigram_between_term_description',\n",
       "          u'dice_dist_of_unigram_between_title_description',\n",
       "                  u'dice_dist_of_bigram_between_term_title',\n",
       "            u'dice_dist_of_bigram_between_term_description',\n",
       "           u'dice_dist_of_bigram_between_title_description',\n",
       "                 u'dice_dist_of_trigram_between_term_title',\n",
       "           u'dice_dist_of_trigram_between_term_description',\n",
       "          u'dice_dist_of_trigram_between_title_description'],\n",
       "      dtype='object')"
      ]
     },
     "execution_count": 8,
     "metadata": {},
     "output_type": "execute_result"
    }
   ],
   "source": [
    "df_all.columns"
   ]
  },
  {
   "cell_type": "code",
   "execution_count": 9,
   "metadata": {
    "collapsed": true
   },
   "outputs": [],
   "source": [
    "np.savetxt('features/jaccardCoef_feat.txt', df_all)"
   ]
  },
  {
   "cell_type": "code",
   "execution_count": 10,
   "metadata": {
    "collapsed": true
   },
   "outputs": [],
   "source": [
    "jaccard_feat = np.loadtxt('features/jaccardCoef_feat.txt')"
   ]
  },
  {
   "cell_type": "code",
   "execution_count": 11,
   "metadata": {
    "collapsed": false
   },
   "outputs": [
    {
     "data": {
      "text/plain": [
       "((240760, 19), (240760, 19))"
      ]
     },
     "execution_count": 11,
     "metadata": {},
     "output_type": "execute_result"
    }
   ],
   "source": [
    "df_all.shape, jaccard_feat.shape"
   ]
  },
  {
   "cell_type": "code",
   "execution_count": null,
   "metadata": {
    "collapsed": true
   },
   "outputs": [],
   "source": []
  }
 ],
 "metadata": {
  "kernelspec": {
   "display_name": "Python 2",
   "language": "python",
   "name": "python2"
  },
  "language_info": {
   "codemirror_mode": {
    "name": "ipython",
    "version": 2
   },
   "file_extension": ".py",
   "mimetype": "text/x-python",
   "name": "python",
   "nbconvert_exporter": "python",
   "pygments_lexer": "ipython2",
   "version": "2.7.9"
  }
 },
 "nbformat": 4,
 "nbformat_minor": 0
}
